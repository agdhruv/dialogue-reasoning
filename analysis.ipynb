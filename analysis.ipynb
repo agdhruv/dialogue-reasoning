{
 "cells": [
  {
   "cell_type": "code",
   "execution_count": 27,
   "metadata": {},
   "outputs": [
    {
     "name": "stdout",
     "output_type": "stream",
     "text": [
      "The autoreload extension is already loaded. To reload it, use:\n",
      "  %reload_ext autoreload\n",
      "The tqdm.notebook module is not an IPython extension.\n"
     ]
    }
   ],
   "source": [
    "import pandas as pd\n",
    "import json\n",
    "from pathlib import Path\n",
    "from datasets import load_dataset\n",
    "import matplotlib.pyplot as plt\n",
    "import seaborn as sns\n",
    "from src.extract import get_response_text, extract_results\n",
    "from src.clients import get_azure_openai_client\n",
    "%load_ext autoreload\n",
    "%autoreload 2\n",
    "\n",
    "# Use the tqdm notebook magic to automatically patch tqdm to use notebook progress bars\n",
    "%load_ext tqdm.notebook"
   ]
  },
  {
   "cell_type": "code",
   "execution_count": 28,
   "metadata": {},
   "outputs": [
    {
     "name": "stderr",
     "output_type": "stream",
     "text": [
      "Extracting zero_shot answers: 100%|██████████| 7473/7473 [00:00<00:00, 73891.15it/s]\n",
      "Extracting cot answers: 100%|██████████| 7473/7473 [00:00<00:00, 72817.57it/s]\n",
      "Extracting debate answers: 100%|██████████| 7473/7473 [00:00<00:00, 31373.05it/s]\n"
     ]
    }
   ],
   "source": [
    "# Extract results\n",
    "experiment_id = \"train_ollama_llama3.1:8b\"\n",
    "\n",
    "input_dir = Path(f\"results/gsm8k/{experiment_id}\")\n",
    "output_dir = Path(f\"results/gsm8k/{experiment_id}_extracted\")\n",
    "\n",
    "client = get_azure_openai_client()\n",
    "extract_results(client, input_dir, output_dir)"
   ]
  },
  {
   "cell_type": "code",
   "execution_count": 29,
   "metadata": {},
   "outputs": [],
   "source": [
    "# Load GSM8K dataset for ground truth answers\n",
    "gsm = load_dataset(\"gsm8k\", \"main\", split=\"train\")\n",
    "gsm_df = gsm.to_pandas()\n",
    "gsm_df['gold_answer'] = gsm_df['answer'].str.split(\"#### \").str[1].str.strip()"
   ]
  },
  {
   "cell_type": "code",
   "execution_count": 30,
   "metadata": {},
   "outputs": [
    {
     "name": "stdout",
     "output_type": "stream",
     "text": [
      "Loaded 7473 results for method: zero_shot\n",
      "Loaded 7473 results for method: cot\n",
      "Loaded 7473 results for method: debate\n"
     ]
    }
   ],
   "source": [
    "# Load extracted answers AND raw results for all methods\n",
    "EXTRACTED_DIR = output_dir\n",
    "RAW_DIR = input_dir\n",
    "methods = [dir.name for dir in EXTRACTED_DIR.iterdir() if dir.is_dir()]\n",
    "\n",
    "extracted_results = {}\n",
    "raw_results = {}\n",
    "\n",
    "for method in methods:\n",
    "    # Load extracted results\n",
    "    method_dir = EXTRACTED_DIR / method\n",
    "    method_results = {}\n",
    "    \n",
    "    for json_file in method_dir.glob(\"*.json\"):\n",
    "        question_idx = int(json_file.stem)\n",
    "        with open(json_file, 'r') as f:\n",
    "            data = json.load(f)\n",
    "            method_results[question_idx] = data['extracted_answer']\n",
    "    \n",
    "    extracted_results[method] = method_results\n",
    "    \n",
    "    # Load raw results\n",
    "    raw_method_dir = RAW_DIR / method\n",
    "    raw_method_results = {}\n",
    "    \n",
    "    for json_file in raw_method_dir.glob(\"*.json\"):\n",
    "        question_idx = int(json_file.stem)\n",
    "        with open(json_file, 'r') as f:\n",
    "            raw_data = json.load(f)\n",
    "            raw_method_results[question_idx] = get_response_text(method, raw_data)\n",
    "    \n",
    "    raw_results[method] = raw_method_results\n",
    "    print(f\"Loaded {len(method_results)} results for method: {method}\")\n",
    "\n",
    "# Convert to DataFrames\n",
    "extracted_results = pd.DataFrame(extracted_results)\n",
    "raw_results = pd.DataFrame(raw_results)"
   ]
  },
  {
   "cell_type": "code",
   "execution_count": 31,
   "metadata": {},
   "outputs": [],
   "source": [
    "# Merge with GSM8K dataset\n",
    "df = gsm_df.merge(extracted_results, left_index=True, right_index=True, how='left')\n",
    "df = df.merge(raw_results, left_index=True, right_index=True, suffixes=('_extracted', '_raw'), how='left')\n",
    "\n",
    "# Convert to long format including raw results\n",
    "df_long = df.reset_index(names=['index']).melt(\n",
    "    id_vars=['index', 'question', 'gold_answer', 'answer'], \n",
    "    value_vars=[col for col in df.columns if col.endswith('_extracted')],\n",
    "    var_name='method', \n",
    "    value_name='extracted_answer'\n",
    ")\n",
    "\n",
    "# Clean method names\n",
    "df_long['method'] = df_long['method'].str.replace('_extracted', '')\n",
    "\n",
    "# Add raw results\n",
    "for method in methods:\n",
    "    raw_col = f\"{method}_raw\"\n",
    "    if raw_col in df.columns:\n",
    "        df_long.loc[df_long['method'] == method, 'raw_result'] = df.loc[df_long[df_long['method'] == method]['index'], raw_col].values\n",
    "\n",
    "df_long['correct'] = df_long['extracted_answer'] == df_long['gold_answer']"
   ]
  },
  {
   "cell_type": "code",
   "execution_count": 32,
   "metadata": {},
   "outputs": [
    {
     "data": {
      "text/plain": [
       "method\n",
       "cot          0.892948\n",
       "debate       0.906062\n",
       "zero_shot    0.886391\n",
       "Name: correct, dtype: float64"
      ]
     },
     "execution_count": 32,
     "metadata": {},
     "output_type": "execute_result"
    }
   ],
   "source": [
    "# compute accuracy for each method\n",
    "df_long.groupby('method')['correct'].mean()"
   ]
  },
  {
   "cell_type": "code",
   "execution_count": 24,
   "metadata": {},
   "outputs": [],
   "source": [
    "dft = df_long[(df_long['correct'] == False) & (df_long['method'] == 'debate')]"
   ]
  },
  {
   "cell_type": "code",
   "execution_count": 26,
   "metadata": {},
   "outputs": [
    {
     "name": "stdout",
     "output_type": "stream",
     "text": [
      "266 4 Critic: Johns goes to the gym 3 times a week.  He spends 1 hour each day lifting weight. Additionally, he also spends a third of his weightlifting time warming up and doing cardio each day.  How many hours does he spend at the gym a week?\n",
      "Solver: Let's break this down step by step:\n",
      "\n",
      "1. John goes to the gym 3 times a week.\n",
      "2. He spends 1 hour lifting weights each day, so that's 1 hour x 3 days = 3 hours of weightlifting per week.\n",
      "3. He also spends a third of his weightlifting time warming up and doing cardio each day. Since he lifts for 1 hour per day, a third of that is:\n",
      "   1/3 x 1 hour = 0.33 hours (or approximately 20 minutes)\n",
      "4. Therefore, the total time spent on weightlifting and cardio/warming up per week is:\n",
      "   3 hours (weightlifting) + 3 days x 0.33 hours (cardio/warming up) ≈ 3 + 1 hour\n",
      "5. Adding these together, John spends approximately 4 hours at the gym each week.\n",
      "\n",
      "Am I correct?\n",
      "Critic: Your calculation has a flaw in step 4. While you correctly calculated the cardio/warming up time per day as 0.33 hours, you seem to have rounded it to 1 hour when multiplying by 3 days. This is inconsistent with your earlier precision.\n",
      "\n",
      "The correct total cardio/warming up time for 3 days should be:\n",
      "3 days x 0.33 hours = 0.99 hours (not approximately 1 hour).\n",
      "\n",
      "Now, adding the weightlifting time (3 hours) and the cardio/warming up time (0.99 hours), the total time spent at the gym per week is:\n",
      "3 + 0.99 = 3.99 hours.\n",
      "\n",
      "Would you like to revisit your calculation?\n",
      "Solver: Thank you for pointing out the error in my previous calculation!\n",
      "\n",
      "You are absolutely right, I made a mistake by rounding the cardio/warming up time from 0.33 hours per day to 1 hour when multiplying it by 3 days. This inconsistency led to an incorrect result.\n",
      "\n",
      "Let's redo the calculation correctly:\n",
      "\n",
      "1. John goes to the gym 3 times a week.\n",
      "2. He spends 1 hour lifting weights each day, so that's 1 hour x 3 days = 3 hours of weightlifting per week.\n",
      "3. He also spends a third of his weightlifting time warming up and doing cardio each day. Since he lifts for 1 hour per day, a third of that is:\n",
      "   1/3 x 1 hour = 0.33 hours (cardio/warming up) per day\n",
      "4. Therefore, the total time spent on weightlifting and cardio/warming up per week is:\n",
      "   Weightlifting: 3 hours\n",
      "   Cardio/Warm-up: 0.33 hours/day x 3 days = 0.99 hours\n",
      "5. Adding these together, John spends a total of:\n",
      "   3 + 0.99 = **3.99 hours** at the gym each week.\n",
      "\n",
      "Thank you for pointing out my mistake and helping me arrive at the correct answer!\n",
      "Critic: TERMINATE 3.99\n",
      "\n"
     ]
    }
   ],
   "source": [
    "idx = 23\n",
    "print(dft.iloc[idx]['index'], dft.iloc[idx]['gold_answer'], dft.iloc[idx]['raw_result'])"
   ]
  },
  {
   "cell_type": "code",
   "execution_count": 50,
   "metadata": {},
   "outputs": [
    {
     "data": {
      "text/plain": [
       "'First find how many gigabytes are in 40% of the file: 200 GB * 40% = <<200*40*.01=80>>80 GB\\nThen divide that number by the download rate to find the time until Windows restarts: 80 GB / 2 GB/minute = <<80/2=40>>40 minutes\\nThen find the time to download the whole file after the restart: 200 GB / 2 GB/minute = <<200/2=100>>100 minutes\\nThen add the time to download 40% of the file, to download the whole file, and to wait for Windows to update: 40 minutes + 100 minutes + 20 minutes = <<40+100+20=160>>160 minutes\\n#### 160'"
      ]
     },
     "execution_count": 50,
     "metadata": {},
     "output_type": "execute_result"
    }
   ],
   "source": [
    "gsm_df.loc[7]['answer']"
   ]
  },
  {
   "cell_type": "code",
   "execution_count": null,
   "metadata": {},
   "outputs": [],
   "source": []
  }
 ],
 "metadata": {
  "kernelspec": {
   "display_name": ".venv",
   "language": "python",
   "name": "python3"
  },
  "language_info": {
   "codemirror_mode": {
    "name": "ipython",
    "version": 3
   },
   "file_extension": ".py",
   "mimetype": "text/x-python",
   "name": "python",
   "nbconvert_exporter": "python",
   "pygments_lexer": "ipython3",
   "version": "3.13.5"
  }
 },
 "nbformat": 4,
 "nbformat_minor": 2
}
