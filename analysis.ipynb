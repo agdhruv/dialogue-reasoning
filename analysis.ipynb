{
 "cells": [
  {
   "cell_type": "code",
   "execution_count": 51,
   "metadata": {},
   "outputs": [],
   "source": [
    "import pandas as pd\n",
    "import json\n",
    "from pathlib import Path\n",
    "from datasets import load_dataset\n",
    "import matplotlib.pyplot as plt\n",
    "import seaborn as sns\n",
    "from extract import get_response_text"
   ]
  },
  {
   "cell_type": "code",
   "execution_count": 57,
   "metadata": {},
   "outputs": [],
   "source": [
    "# Load GSM8K dataset for ground truth answers\n",
    "gsm = load_dataset(\"gsm8k\", \"main\", split=\"test\")\n",
    "gsm_df = gsm.to_pandas()\n",
    "gsm_df['gold_answer'] = gsm_df['answer'].str.split(\"#### \").str[1].str.strip()"
   ]
  },
  {
   "cell_type": "code",
   "execution_count": 58,
   "metadata": {},
   "outputs": [
    {
     "name": "stdout",
     "output_type": "stream",
     "text": [
      "Loaded 100 results for method: cot\n",
      "Loaded 100 results for method: debate\n",
      "Loaded 100 results for method: debate-both35\n",
      "Loaded 100 results for method: zero_shot\n"
     ]
    }
   ],
   "source": [
    "# Load extracted answers AND raw results for all methods\n",
    "EXTRACTED_DIR = Path(\"results/gsm8k-extracted\")\n",
    "RAW_DIR = Path(\"results/gsm8k\")\n",
    "methods = [dir.name for dir in EXTRACTED_DIR.iterdir() if dir.is_dir()]\n",
    "\n",
    "extracted_results = {}\n",
    "raw_results = {}\n",
    "\n",
    "for method in methods:\n",
    "    # Load extracted results\n",
    "    method_dir = EXTRACTED_DIR / method\n",
    "    method_results = {}\n",
    "    \n",
    "    for json_file in method_dir.glob(\"*.json\"):\n",
    "        question_idx = int(json_file.stem)\n",
    "        with open(json_file, 'r') as f:\n",
    "            data = json.load(f)\n",
    "            method_results[question_idx] = data['extracted_answer']\n",
    "    \n",
    "    extracted_results[method] = method_results\n",
    "    \n",
    "    # Load raw results\n",
    "    raw_method_dir = RAW_DIR / method\n",
    "    raw_method_results = {}\n",
    "    \n",
    "    for json_file in raw_method_dir.glob(\"*.json\"):\n",
    "        question_idx = int(json_file.stem)\n",
    "        with open(json_file, 'r') as f:\n",
    "            raw_data = json.load(f)\n",
    "            raw_method_results[question_idx] = get_response_text(method, raw_data)\n",
    "    \n",
    "    raw_results[method] = raw_method_results\n",
    "    print(f\"Loaded {len(method_results)} results for method: {method}\")\n",
    "\n",
    "# Convert to DataFrames\n",
    "extracted_results = pd.DataFrame(extracted_results)\n",
    "raw_results = pd.DataFrame(raw_results)"
   ]
  },
  {
   "cell_type": "code",
   "execution_count": 59,
   "metadata": {},
   "outputs": [],
   "source": [
    "# Merge with GSM8K dataset\n",
    "df = gsm_df.merge(extracted_results, left_index=True, right_index=True)\n",
    "df = df.merge(raw_results, left_index=True, right_index=True, suffixes=('_extracted', '_raw'))\n",
    "\n",
    "# Convert to long format including raw results\n",
    "df_long = df.reset_index(names=['index']).melt(\n",
    "    id_vars=['index', 'question', 'gold_answer', 'answer'], \n",
    "    value_vars=[col for col in df.columns if col.endswith('_extracted')],\n",
    "    var_name='method', \n",
    "    value_name='extracted_answer'\n",
    ")\n",
    "\n",
    "# Clean method names\n",
    "df_long['method'] = df_long['method'].str.replace('_extracted', '')\n",
    "\n",
    "# Add raw results\n",
    "for method in methods:\n",
    "    raw_col = f\"{method}_raw\"\n",
    "    if raw_col in df.columns:\n",
    "        df_long.loc[df_long['method'] == method, 'raw_result'] = df.loc[df_long[df_long['method'] == method]['index'], raw_col].values\n",
    "\n",
    "df_long['correct'] = df_long['extracted_answer'] == df_long['gold_answer']"
   ]
  },
  {
   "cell_type": "code",
   "execution_count": 60,
   "metadata": {},
   "outputs": [
    {
     "data": {
      "text/plain": [
       "method\n",
       "cot              0.85\n",
       "debate           0.92\n",
       "debate-both35    0.80\n",
       "zero_shot        0.87\n",
       "Name: correct, dtype: float64"
      ]
     },
     "execution_count": 60,
     "metadata": {},
     "output_type": "execute_result"
    }
   ],
   "source": [
    "# compute accuracy for each method\n",
    "df_long.groupby('method')['correct'].mean()"
   ]
  },
  {
   "cell_type": "code",
   "execution_count": 41,
   "metadata": {},
   "outputs": [],
   "source": [
    "dft = df_long[(df_long['correct'] == False) & (df_long['method'] == 'debate')]"
   ]
  },
  {
   "cell_type": "code",
   "execution_count": 48,
   "metadata": {},
   "outputs": [
    {
     "name": "stdout",
     "output_type": "stream",
     "text": [
      "7 160 Agent 1: Carla is downloading a 200 GB file. Normally she can download 2 GB/minute, but 40% of the way through the download, Windows forces a restart to install updates, which takes 20 minutes. Then Carla has to restart the download from the beginning. How load does it take to download the file?\n",
      "Agent 2: To solve this problem, we can break it down into two parts: the time it takes to download 40% of the file and the time it takes to download the remaining 60% of the file.\n",
      "\n",
      "First, we find the time it takes to download 40% of the file:\n",
      "40% of 200 GB = 0.4 * 200 = 80 GB\n",
      "Time to download 80 GB at 2 GB/minute = 80 / 2 = 40 minutes\n",
      "\n",
      "Then, we add the 20 minutes it takes for the Windows update:\n",
      "40 minutes + 20 minutes = 60 minutes\n",
      "\n",
      "So, it takes Carla 60 minutes to download 40% of the file.\n",
      "\n",
      "Now, Carla has to restart the download from the beginning, so she needs to download the remaining 60% of the file:\n",
      "60% of 200 GB = 0.6 * 200 = 120 GB\n",
      "Time to download 120 GB at 2 GB/minute = 120 / 2 = 60 minutes\n",
      "\n",
      "Therefore, it takes Carla an additional 60 minutes to download the remaining 60% of the file.\n",
      "\n",
      "Adding the time for both parts together:\n",
      "60 minutes (40% of the file) + 60 minutes (60% of the file) = 120 minutes\n",
      "\n",
      "So, it takes Carla 120 minutes to download the entire 200 GB file.\n",
      "\n",
      "Is there anything else you'd like to discuss or any part of the solution you'd like to review?\n",
      "Agent 1: Your approach is correct. It takes Carla 120 minutes to download the entire 200 GB file. Well done! TERMINATE\n",
      "\n"
     ]
    }
   ],
   "source": [
    "idx = 1\n",
    "print(dft.iloc[idx]['index'], dft.iloc[idx]['gold_answer'], dft.iloc[idx]['raw_result'])"
   ]
  },
  {
   "cell_type": "code",
   "execution_count": 50,
   "metadata": {},
   "outputs": [
    {
     "data": {
      "text/plain": [
       "'First find how many gigabytes are in 40% of the file: 200 GB * 40% = <<200*40*.01=80>>80 GB\\nThen divide that number by the download rate to find the time until Windows restarts: 80 GB / 2 GB/minute = <<80/2=40>>40 minutes\\nThen find the time to download the whole file after the restart: 200 GB / 2 GB/minute = <<200/2=100>>100 minutes\\nThen add the time to download 40% of the file, to download the whole file, and to wait for Windows to update: 40 minutes + 100 minutes + 20 minutes = <<40+100+20=160>>160 minutes\\n#### 160'"
      ]
     },
     "execution_count": 50,
     "metadata": {},
     "output_type": "execute_result"
    }
   ],
   "source": [
    "gsm_df.loc[7]['answer']"
   ]
  },
  {
   "cell_type": "code",
   "execution_count": null,
   "metadata": {},
   "outputs": [],
   "source": []
  }
 ],
 "metadata": {
  "kernelspec": {
   "display_name": "myenv",
   "language": "python",
   "name": "python3"
  },
  "language_info": {
   "codemirror_mode": {
    "name": "ipython",
    "version": 3
   },
   "file_extension": ".py",
   "mimetype": "text/x-python",
   "name": "python",
   "nbconvert_exporter": "python",
   "pygments_lexer": "ipython3",
   "version": "3.13.4"
  }
 },
 "nbformat": 4,
 "nbformat_minor": 2
}
